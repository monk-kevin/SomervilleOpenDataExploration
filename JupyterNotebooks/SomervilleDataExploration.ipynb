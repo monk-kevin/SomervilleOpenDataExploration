{
 "cells": [
  {
   "cell_type": "markdown",
   "id": "a2d17d36-7aef-41ba-819b-69d2bb941086",
   "metadata": {},
   "source": [
    "# Somerville Open Data Exploration\n",
    "The city of Somerville has several open datasets that can be downloaded and analyzed.\n",
    "Of interest, they perform a biannual (every 2 year) survey of resident happiness along with demographic data.\n",
    "In addition, they have data regarding crime, crashes, and the number of pedestrians/cyclists observed.\n",
    "I will use this notebook to explore these datasets. I would like to do at least some of the following:\n",
    "* Explore the datasets for any interesting trends\n",
    "* Create regression models that can reveal what factors are major contributors to happiness scores\n",
    "* Cluster residents into different groups to identify what could enhance their living experience"
   ]
  },
  {
   "cell_type": "code",
   "execution_count": 1,
   "id": "87dcd38d-f06e-4ea2-a25a-df2a6aad73d4",
   "metadata": {},
   "outputs": [],
   "source": [
    "# imports\n",
    "import pandas as pd\n",
    "import numpy as np\n",
    "import scipy\n",
    "import sklearn\n",
    "import os\n",
    "import matplotlib.pyplot as plt"
   ]
  },
  {
   "cell_type": "code",
   "execution_count": 2,
   "id": "88e1b8c9-2da4-4094-bd09-496365c63aad",
   "metadata": {},
   "outputs": [],
   "source": [
    "# Loading in data\n",
    "path2csv = 'C:/Users/kevjm/Documents/GitHub/SomervilleOpenDataExploration/data'\n",
    "d = os.listdir(path2csv)\n",
    "\n",
    "df_bike_ped_counts = pd.read_csv(path2csv + '/' + d[0])\n",
    "df_crashes = pd.read_csv(path2csv + '/' + d[1])\n",
    "df_crime = pd.read_csv(path2csv + '/' + d[2])\n",
    "df_happiness = pd.read_csv(path2csv + '/' + d[3],low_memory=False)"
   ]
  },
  {
   "cell_type": "markdown",
   "id": "87be6af2-719e-42ad-a41b-64797b803afc",
   "metadata": {},
   "source": [
    "The Somerville Happiness dataset (https://data.somervillema.gov/Health-Wellbeing/Somerville-Happiness-Survey-Responses/pfjr-vzaw/about_data) is a large dataframe where each row is a survey respondent. The respondent was asked a number of demographic and lifestyle questions and was also asked to rank their happiness on a scale of 1 - 5. A full description of the data can be found on the Somerville webiste and here is a small sampling of what we are working with."
   ]
  },
  {
   "cell_type": "code",
   "execution_count": 3,
   "id": "704ff791-23fe-46c9-99b4-381cc62abc30",
   "metadata": {},
   "outputs": [
    {
     "data": {
      "text/html": [
       "<div>\n",
       "<style scoped>\n",
       "    .dataframe tbody tr th:only-of-type {\n",
       "        vertical-align: middle;\n",
       "    }\n",
       "\n",
       "    .dataframe tbody tr th {\n",
       "        vertical-align: top;\n",
       "    }\n",
       "\n",
       "    .dataframe thead th {\n",
       "        text-align: right;\n",
       "    }\n",
       "</style>\n",
       "<table border=\"1\" class=\"dataframe\">\n",
       "  <thead>\n",
       "    <tr style=\"text-align: right;\">\n",
       "      <th></th>\n",
       "      <th>ID</th>\n",
       "      <th>Year</th>\n",
       "      <th>Survey.Method</th>\n",
       "      <th>Survey.Language</th>\n",
       "      <th>Gender</th>\n",
       "      <th>Age</th>\n",
       "      <th>Age.mid</th>\n",
       "      <th>Race.Ethnicity</th>\n",
       "      <th>Housing.Status</th>\n",
       "      <th>Tenure</th>\n",
       "      <th>...</th>\n",
       "      <th>Green.Line.Extension.Satisfaction.5pt.num</th>\n",
       "      <th>Green.Line.Extension.Satisfaction.5pt.label</th>\n",
       "      <th>Bus.Bicycle.Lanes.Satisfaction.5pt.num</th>\n",
       "      <th>Bus.Bicycle.Lanes.Satisfaction.5pt.label</th>\n",
       "      <th>Bluebikes.Satisfaction.5pt.num</th>\n",
       "      <th>Bluebikes.Satisfaction.5pt.label</th>\n",
       "      <th>ACS.Year</th>\n",
       "      <th>ACS.Somerville.Median.Income</th>\n",
       "      <th>ACS.Somerville.Avg.Household.Size</th>\n",
       "      <th>Inflation.Adjustment</th>\n",
       "    </tr>\n",
       "  </thead>\n",
       "  <tbody>\n",
       "    <tr>\n",
       "      <th>0</th>\n",
       "      <td>560</td>\n",
       "      <td>2011</td>\n",
       "      <td>Paper</td>\n",
       "      <td>NaN</td>\n",
       "      <td>Man</td>\n",
       "      <td>61 or older</td>\n",
       "      <td>61.0</td>\n",
       "      <td>White</td>\n",
       "      <td>NaN</td>\n",
       "      <td>NaN</td>\n",
       "      <td>...</td>\n",
       "      <td>NaN</td>\n",
       "      <td>NaN</td>\n",
       "      <td>NaN</td>\n",
       "      <td>NaN</td>\n",
       "      <td>NaN</td>\n",
       "      <td>NaN</td>\n",
       "      <td>2011</td>\n",
       "      <td>64480</td>\n",
       "      <td>2.29</td>\n",
       "      <td>1.35</td>\n",
       "    </tr>\n",
       "    <tr>\n",
       "      <th>1</th>\n",
       "      <td>561</td>\n",
       "      <td>2011</td>\n",
       "      <td>Paper</td>\n",
       "      <td>NaN</td>\n",
       "      <td>Woman</td>\n",
       "      <td>26-30</td>\n",
       "      <td>28.0</td>\n",
       "      <td>White</td>\n",
       "      <td>NaN</td>\n",
       "      <td>NaN</td>\n",
       "      <td>...</td>\n",
       "      <td>NaN</td>\n",
       "      <td>NaN</td>\n",
       "      <td>NaN</td>\n",
       "      <td>NaN</td>\n",
       "      <td>NaN</td>\n",
       "      <td>NaN</td>\n",
       "      <td>2011</td>\n",
       "      <td>64480</td>\n",
       "      <td>2.29</td>\n",
       "      <td>1.35</td>\n",
       "    </tr>\n",
       "    <tr>\n",
       "      <th>2</th>\n",
       "      <td>562</td>\n",
       "      <td>2011</td>\n",
       "      <td>Paper</td>\n",
       "      <td>NaN</td>\n",
       "      <td>Man</td>\n",
       "      <td>61 or older</td>\n",
       "      <td>61.0</td>\n",
       "      <td>White</td>\n",
       "      <td>NaN</td>\n",
       "      <td>NaN</td>\n",
       "      <td>...</td>\n",
       "      <td>NaN</td>\n",
       "      <td>NaN</td>\n",
       "      <td>NaN</td>\n",
       "      <td>NaN</td>\n",
       "      <td>NaN</td>\n",
       "      <td>NaN</td>\n",
       "      <td>2011</td>\n",
       "      <td>64480</td>\n",
       "      <td>2.29</td>\n",
       "      <td>1.35</td>\n",
       "    </tr>\n",
       "    <tr>\n",
       "      <th>3</th>\n",
       "      <td>563</td>\n",
       "      <td>2011</td>\n",
       "      <td>Paper</td>\n",
       "      <td>NaN</td>\n",
       "      <td>Woman</td>\n",
       "      <td>61 or older</td>\n",
       "      <td>61.0</td>\n",
       "      <td>White</td>\n",
       "      <td>NaN</td>\n",
       "      <td>NaN</td>\n",
       "      <td>...</td>\n",
       "      <td>NaN</td>\n",
       "      <td>NaN</td>\n",
       "      <td>NaN</td>\n",
       "      <td>NaN</td>\n",
       "      <td>NaN</td>\n",
       "      <td>NaN</td>\n",
       "      <td>2011</td>\n",
       "      <td>64480</td>\n",
       "      <td>2.29</td>\n",
       "      <td>1.35</td>\n",
       "    </tr>\n",
       "    <tr>\n",
       "      <th>4</th>\n",
       "      <td>564</td>\n",
       "      <td>2011</td>\n",
       "      <td>Paper</td>\n",
       "      <td>NaN</td>\n",
       "      <td>Man</td>\n",
       "      <td>26-30</td>\n",
       "      <td>28.0</td>\n",
       "      <td>White</td>\n",
       "      <td>NaN</td>\n",
       "      <td>NaN</td>\n",
       "      <td>...</td>\n",
       "      <td>NaN</td>\n",
       "      <td>NaN</td>\n",
       "      <td>NaN</td>\n",
       "      <td>NaN</td>\n",
       "      <td>NaN</td>\n",
       "      <td>NaN</td>\n",
       "      <td>2011</td>\n",
       "      <td>64480</td>\n",
       "      <td>2.29</td>\n",
       "      <td>1.35</td>\n",
       "    </tr>\n",
       "  </tbody>\n",
       "</table>\n",
       "<p>5 rows × 129 columns</p>\n",
       "</div>"
      ],
      "text/plain": [
       "    ID  Year Survey.Method Survey.Language Gender          Age  Age.mid  \\\n",
       "0  560  2011         Paper             NaN    Man  61 or older     61.0   \n",
       "1  561  2011         Paper             NaN  Woman        26-30     28.0   \n",
       "2  562  2011         Paper             NaN    Man  61 or older     61.0   \n",
       "3  563  2011         Paper             NaN  Woman  61 or older     61.0   \n",
       "4  564  2011         Paper             NaN    Man        26-30     28.0   \n",
       "\n",
       "  Race.Ethnicity Housing.Status Tenure  ...  \\\n",
       "0          White            NaN    NaN  ...   \n",
       "1          White            NaN    NaN  ...   \n",
       "2          White            NaN    NaN  ...   \n",
       "3          White            NaN    NaN  ...   \n",
       "4          White            NaN    NaN  ...   \n",
       "\n",
       "   Green.Line.Extension.Satisfaction.5pt.num  \\\n",
       "0                                        NaN   \n",
       "1                                        NaN   \n",
       "2                                        NaN   \n",
       "3                                        NaN   \n",
       "4                                        NaN   \n",
       "\n",
       "  Green.Line.Extension.Satisfaction.5pt.label  \\\n",
       "0                                         NaN   \n",
       "1                                         NaN   \n",
       "2                                         NaN   \n",
       "3                                         NaN   \n",
       "4                                         NaN   \n",
       "\n",
       "   Bus.Bicycle.Lanes.Satisfaction.5pt.num  \\\n",
       "0                                     NaN   \n",
       "1                                     NaN   \n",
       "2                                     NaN   \n",
       "3                                     NaN   \n",
       "4                                     NaN   \n",
       "\n",
       "  Bus.Bicycle.Lanes.Satisfaction.5pt.label  Bluebikes.Satisfaction.5pt.num  \\\n",
       "0                                      NaN                             NaN   \n",
       "1                                      NaN                             NaN   \n",
       "2                                      NaN                             NaN   \n",
       "3                                      NaN                             NaN   \n",
       "4                                      NaN                             NaN   \n",
       "\n",
       "   Bluebikes.Satisfaction.5pt.label  ACS.Year  ACS.Somerville.Median.Income  \\\n",
       "0                               NaN      2011                         64480   \n",
       "1                               NaN      2011                         64480   \n",
       "2                               NaN      2011                         64480   \n",
       "3                               NaN      2011                         64480   \n",
       "4                               NaN      2011                         64480   \n",
       "\n",
       "   ACS.Somerville.Avg.Household.Size  Inflation.Adjustment  \n",
       "0                               2.29                  1.35  \n",
       "1                               2.29                  1.35  \n",
       "2                               2.29                  1.35  \n",
       "3                               2.29                  1.35  \n",
       "4                               2.29                  1.35  \n",
       "\n",
       "[5 rows x 129 columns]"
      ]
     },
     "execution_count": 3,
     "metadata": {},
     "output_type": "execute_result"
    }
   ],
   "source": [
    "df_happiness.head()"
   ]
  },
  {
   "cell_type": "markdown",
   "id": "d25104c5-65f6-4a2b-9936-1c51a405abe2",
   "metadata": {},
   "source": [
    "## Happiness Survey Exploration"
   ]
  },
  {
   "cell_type": "markdown",
   "id": "18895a5e-9c87-4123-9ca1-6ad3f4260748",
   "metadata": {},
   "source": [
    "#### Happiness Score by Demographics\n",
    "There are many ways to divide these data, so I'd like to make a function that plots the distribution of happiness scores as a function of some other feature (e.g., year, age range, ward, etc.)"
   ]
  },
  {
   "cell_type": "code",
   "execution_count": 4,
   "id": "8d4af84c-b0aa-4dd8-b9c6-4c18c4bc0bc0",
   "metadata": {},
   "outputs": [],
   "source": [
    "def plot_happiness_dist(df,groupby_var):\n",
    "    \"\"\"\n",
    "    This function takes the dataframe that houses all happiness survey answers and \n",
    "    creates stacked bar plots based on the provided groupby_var.\n",
    "    \n",
    "    If one variable is provided, each stack of bar represent the proportion of \n",
    "    respondents who scored their happiness as 1, 2, 3, 4, or 5 for that given \n",
    "    variable.\n",
    "    \n",
    "    If, however, two variables are provided (e.g., [Ward, Year]), then a series of \n",
    "    subplots are made for all of the options for the first variable and then split \n",
    "    by the second wihtin stacked bars\n",
    "    \"\"\"\n",
    "    my_colors = ['#b0b0b0','#758a9b','#ffd366','#f6a437','#ec7014']\n",
    "    grouped_scores = (df.groupby(groupby_var)\n",
    "                      ['Happiness.5pt.num']\n",
    "                      .value_counts()\n",
    "                     )\n",
    "    \n",
    "    if len(groupby_var) > 2:\n",
    "        fig = plt.figure(figsize=(10,6))\n",
    "        ax = fig.add_subplot(1,1,1)\n",
    "        grouped_scores_norm = (grouped_scores.unstack()\n",
    "                               .iloc[:,0:5]\n",
    "                               .div(grouped_scores\n",
    "                                    .unstack()\n",
    "                                    .sum(axis=1),\n",
    "                                    axis = 0)\n",
    "                              )\n",
    "        grouped_scores_norm.plot(ax = ax,\n",
    "                                 kind = 'bar',\n",
    "                                 stacked = True,\n",
    "                                 color = my_colors,\n",
    "                                 legend = False)\n",
    "        ax.set_xlabel(f'{groupby_var}')\n",
    "        ax.set_ylabel('Prop Respondents')\n",
    "        ax.set_title(f'Happiness Score Across {groupby_var}')\n",
    "    else:\n",
    "        lvl1_vals = sorted(list(set(grouped_scores.index.get_level_values(0))))\n",
    "        fig,axes = plt.subplots(1,len(lvl1_vals))\n",
    "        c = 0\n",
    "        for val in lvl1_vals:\n",
    "            grouped_scores_sub = grouped_scores.xs(val)\n",
    "            grouped_scores_sub_norm = (grouped_scores_sub.unstack()\n",
    "                                       .iloc[:,0:5]\n",
    "                                       .div(grouped_scores_sub\n",
    "                                            .unstack()\n",
    "                                            .sum(axis=1),\n",
    "                                            axis = 0)\n",
    "                                      )\n",
    "            \n",
    "            # plt.subplot(1,len(lvl1_vals),c+1)\n",
    "            grouped_scores_sub_norm.plot(ax = axes[c], \n",
    "                                         kind = 'bar',\n",
    "                                         stacked = True, \n",
    "                                         color = my_colors,\n",
    "                                         legend = False)\n",
    "            axes[c].set_xlabel(groupby_var[1])\n",
    "            if c == 0:\n",
    "                axes[c].set_ylabel('Prop Respondents')\n",
    "\n",
    "            axes[c].set_title(f'{groupby_var[0]}: {val}')\n",
    "            c += 1\n",
    "        fig.set_figwidth(20)\n",
    "    \n",
    "    plt.show()"
   ]
  },
  {
   "cell_type": "markdown",
   "id": "364831de-d6e9-4a5a-80df-9314a249275a",
   "metadata": {},
   "source": [
    "The function above will produce stacked bar plots that show the proportion of respondents that scored their happiness on a 1 - 5 scale (5 is best). If we pass one factor (e.g., year) we can see how the distribution of happiness scores changes across time. In the figures below, gray indicates the proportion of respondents who answered 1 and dark orange represents the proportion of respondents who answered 5."
   ]
  },
  {
   "cell_type": "code",
   "execution_count": 5,
   "id": "25b645b9-ac2f-47c4-a4b1-6abac9961e79",
   "metadata": {},
   "outputs": [
    {
     "data": {
      "image/png": "[encoded data removed]",
      "text/plain": [
       "<Figure size 1000x600 with 1 Axes>"
      ]
     },
     "metadata": {},
     "output_type": "display_data"
    }
   ],
   "source": [
    "plot_happiness_dist(df_happiness,'Year')"
   ]
  },
  {
   "cell_type": "markdown",
   "id": "df9f018c-558d-40c7-883d-12b3a4c263a7",
   "metadata": {},
   "source": [
    "Grouping over year may lose some nuance or subtleties in the data. Thus, the code above can take up to two factors to see how they interact. For instance, we can address whether happiness scores change across time uniformly throughout Somerville. Somerville is divided into 7 representational wards. Below we can pass a list of column names to look at how "
   ]
  },
  {
   "cell_type": "code",
   "execution_count": 6,
   "id": "a07c0d66-f444-4bac-81d6-23f93d6041bf",
   "metadata": {},
   "outputs": [
    {
     "data": {
      "image/png": "[encoded data removed]",
      "text/plain": [
       "<Figure size 2000x480 with 7 Axes>"
      ]
     },
     "metadata": {},
     "output_type": "display_data"
    }
   ],
   "source": [
    "plot_happiness_dist(df_happiness,['Ward','Year'])"
   ]
  },
  {
   "cell_type": "markdown",
   "id": "cf0a3c92-eb9b-4648-b7a2-1b0428878376",
   "metadata": {},
   "source": [
    "Looking at these plots one at a time shows that the majority of respondents score their happiness as 4 or 5 across all years and across all wards. Of particular note, Ward 7 residents in 2015 were very happy! To better understand how local trends influence happiness scores, we can incorporate additional data that is not covered in the survey."
   ]
  },
  {
   "cell_type": "markdown",
   "id": "96039672-2c91-4845-8eba-86b21e14ee4e",
   "metadata": {},
   "source": [
    "#### Finding Relationships between Survey Factors\n",
    "There are many questions within the survey each of which may correlate with a happiness score. First, let's define a function that plots a given factor against the average happiness score for each value within the requested factor."
   ]
  },
  {
   "cell_type": "code",
   "execution_count": 119,
   "id": "6a041be3-99da-4280-bde8-c7041af368d4",
   "metadata": {},
   "outputs": [],
   "source": [
    "def plot_mn_happiness(df,col_feature,col_score = 'Happiness.5pt.num',sem_flag = False):\n",
    "    df_grp = (df[[col_feature,col_score]]\n",
    "          .groupby([col_feature])\n",
    "          .agg(['mean','median','std','count'])\n",
    "          .reset_index()\n",
    "         )\n",
    "    fig, ax = plt.subplots()\n",
    "    \n",
    "    if sem_flag:\n",
    "        plt.errorbar(df_grp[col_feature],df_grp[col_score,'mean'],\n",
    "             df_grp[col_score,'std'] / (df_grp[col_score,'count'])**0.5,\n",
    "             color = 'k')\n",
    "    else:\n",
    "        plt.errorbar(df_grp[col_feature],df_grp[col_score,'mean'],\n",
    "             df_grp[col_score,'std'],\n",
    "             color = 'k')\n",
    "\n",
    "    ax.set_ylim(0,5.5)\n",
    "    ax.set_xlabel(col_feature)\n",
    "\n",
    "    if col_score == 'Happiness.5pt.num':\n",
    "        ax.set_ylabel('Mean Happiness Score')\n",
    "    else:\n",
    "        ax.set_ylabel(f'Mean ({col_score})')\n",
    "    "
   ]
  },
  {
   "cell_type": "code",
   "execution_count": 133,
   "id": "b948a2af-dad1-4cbf-ab6e-e365a8d7b5a2",
   "metadata": {},
   "outputs": [
    {
     "data": {
      "image/png": "[encoded data removed]",
      "text/plain": [
       "<Figure size 640x480 with 1 Axes>"
      ]
     },
     "metadata": {},
     "output_type": "display_data"
    }
   ],
   "source": [
    "plot_mn_happiness(df_happiness,'Ward')"
   ]
  },
  {
   "cell_type": "markdown",
   "id": "d74c9b87-3b38-4c7b-a27f-d2719f371d7c",
   "metadata": {},
   "source": [
    "This function is good to look at survey responses one-at-a-time, but I would like to have a higher throughput data visualization. Additionally, while this survey has a lot of information, there are some more data we can add. First, I will add more data to the existing survey data and then iterate across a range of factors to visualize which seem to be related to average happiness scores."
   ]
  },
  {
   "cell_type": "markdown",
   "id": "9382000b-616d-4dc5-bd0a-0a8efe455881",
   "metadata": {},
   "source": [
    "### Incorporating Other Data into Happiness Survey"
   ]
  },
  {
   "cell_type": "markdown",
   "id": "6e2cab92-b6d4-4b82-ad00-7785f779060b",
   "metadata": {},
   "source": [
    "#### Crime and Crashes\n",
    "The Somerville Police Department maintains a listing of reported crimes and crashes. We can use these numbers to identify whether the prevalence of either (or both) influence's a resident's happiness in that year"
   ]
  },
  {
   "cell_type": "markdown",
   "id": "77ccb44c-7ef0-45e1-8e0b-33a4ee04ee27",
   "metadata": {},
   "source": [
    "#### Pedestrians and Cyclists\n",
    "As a cyclist, my happiness is definitely related to how easy it is to bike around Somerville and it brings me joy to see other cyclists. Somerville has an ongoing survey where volunteers count the number of pedestrians and cyclists at known locations throughout the city. Here, I will create a metric that provides a pedestrian-to-cyclist score to indicate the prevalence of cyclists throughout the city."
   ]
  },
  {
   "cell_type": "markdown",
   "id": "804012b8-2972-4e98-be42-13192135dee3",
   "metadata": {},
   "source": [
    "#### COVID Cases\n",
    "Starting in 2020, the COVID-19 pandemic greatly shifted how Somerville residents lived and could influence their happiness. While Somerville does not have an existing database for COVID prevalence, the neighboring town of Cambridge, MA has kept such a database public for posterity."
   ]
  },
  {
   "cell_type": "markdown",
   "id": "346bd48f-586a-4cd6-9fcf-52a7812ad403",
   "metadata": {},
   "source": [
    "### Visualizing Multiple Features"
   ]
  },
  {
   "cell_type": "markdown",
   "id": "f35a7e49-41ec-4e8c-aebc-e8ae516cca12",
   "metadata": {},
   "source": [
    "### Building a Regression Model\n",
    "Now that we have a sense of how various features influence the average happiness score, I would like to figure out what features are most strongly related to the happiness score. For this, I will turn to a linear regression model. This model assumes that some output (here, a respondent's happiness score) can be predicted by a linear sum of a set of features (here, the survey responses and additional data we added above). To build the model, we must first process the data so that it can be used in the training"
   ]
  },
  {
   "cell_type": "markdown",
   "id": "ae1b986f-90a4-4938-9f21-8701904d5068",
   "metadata": {},
   "source": [
    "#### Processing data: Filling in Missing Values\n",
    "In a few instances, there are no answers for a given question. This could be because the repsondent did not answer or that the question was not included in that year's survey. Nevertheless, we want to fill in the missing value. In the case that the person left the question unanswered, I will impute the most common value from other respondents from the same Ward (alternatively, we could use some other demographic like age/gender/race/etc.). For instances where the question was not present on that year's survey, I will impute with the cross-year mean value."
   ]
  },
  {
   "cell_type": "markdown",
   "id": "2bbcc3c9-8406-4a76-896e-9642d1e72cc0",
   "metadata": {},
   "source": [
    "#### Processing data: One-Hot Encoding\n",
    "Several of the survey questions are categorical in nature (e.g., "
   ]
  }
 ],
 "metadata": {
  "kernelspec": {
   "display_name": "Python [conda env:base] *",
   "language": "python",
   "name": "conda-base-py"
  },
  "language_info": {
   "codemirror_mode": {
    "name": "ipython",
    "version": 3
   },
   "file_extension": ".py",
   "mimetype": "text/x-python",
   "name": "python",
   "nbconvert_exporter": "python",
   "pygments_lexer": "ipython3",
   "version": "3.13.5"
  }
 },
 "nbformat": 4,
 "nbformat_minor": 5
}
